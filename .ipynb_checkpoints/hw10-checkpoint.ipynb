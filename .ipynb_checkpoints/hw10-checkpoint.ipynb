{
 "cells": [
  {
   "cell_type": "markdown",
   "metadata": {
    "deletable": false,
    "editable": false,
    "nbgrader": {
     "cell_type": "markdown",
     "checksum": "389abee3442c0ba34a543a2bda22bb40",
     "grade": false,
     "grade_id": "cell-2f1307d2d407983d",
     "locked": true,
     "schema_version": 3,
     "solution": false,
     "task": false
    }
   },
   "source": [
    "# Homework 10: Galaxy Detection Challenge (50 points)"
   ]
  },
  {
   "cell_type": "markdown",
   "metadata": {},
   "source": [
    "name: Tianjie Qiu\n",
    "\n",
    "email: tjqiu@umich.edu\n",
    "\n",
    "Kaggle Username: tjqiu\n",
    "\n",
    "This homework assignment took me 50 hours in total to complete. (Please help us to gauge the difficulty of the assignment.)"
   ]
  },
  {
   "cell_type": "markdown",
   "metadata": {
    "deletable": false,
    "editable": false,
    "nbgrader": {
     "cell_type": "markdown",
     "checksum": "dcd41b0916cd2e2b3552fd65ff6fd51f",
     "grade": false,
     "grade_id": "cell-9fc8abaaecff0e9a",
     "locked": true,
     "schema_version": 3,
     "solution": false,
     "task": false
    }
   },
   "source": [
    "## Collaboration Disclosure\n",
    "\n",
    "In the cell below, please list *everyone* with whom you discussed any of the homework problems, excluding only the GSIs and the course instructor. \n",
    "\n",
    "If you did not discuss the homework with anyone else, write __\"I did not discuss this homework with anyone.\"__\n",
    "\n",
    "Even if you discuss questions with other, the code you submit must be only yours. All work is checked with the [MOSS plagiarism detector](https://theory.stanford.edu/~aiken/moss/)."
   ]
  },
  {
   "cell_type": "markdown",
   "metadata": {},
   "source": [
    "I discussed with Jinhu Li."
   ]
  },
  {
   "cell_type": "markdown",
   "metadata": {
    "deletable": false,
    "editable": false,
    "nbgrader": {
     "cell_type": "markdown",
     "checksum": "88fe72875a9eaf8172fedef65833df6e",
     "grade": false,
     "grade_id": "cell-e151cac721fa8533",
     "locked": true,
     "schema_version": 3,
     "solution": false,
     "task": false
    }
   },
   "source": [
    "## Introduction\n",
    "\n",
    "For this homework, we are hosting a kaggle competition! We hope that you enjoy this opportunity to learn more about machine learning by tackling a real-world dataset and problem. Please take a look at the kaggle page of this competition https://www.kaggle.com/c/umstats507galaxywinter2021. In Kaggle you can find a leaderboard displaying how the class is doing in the public version of the test set results. \n",
    "\n",
    "This problem set is designed to be more __open-ended__, you should feel free to experiment with different algorithms or strategies to solve this challenge. We provide a basic implementation using a single layer feedforward neural network, you should feel free to experiment with other architectures and approaches. In the following we provide a non-exhaustive list. \n",
    "\n",
    "### General Hints\n",
    "\n",
    "- For learning more about deep learning, a good resource is Dive into Deep Learning, particularly Chapter 7: http://gluon.ai/chapter_convolutional-modern/index.html\n",
    "\n",
    "- You do not need to use a GPU to do well on this task. However, bigger models will run faster on a GPU. Google Colab has GPUs available for students to use.\n",
    "\n",
    "### Neural network architecture\n",
    "\n",
    "Without changing the type of neural network, here are some changes you can try:\n",
    "\n",
    "- Changing the number of layers\n",
    "- Changing the activation function(s) (logistic sigmoid, tanh, relu, leaky relu, ...)\n",
    "- Modifying the # of hidden layers\n",
    "- Changing the # units in the hidden layer(s)\n",
    "\n",
    "Other types of layers that might be useful include: \n",
    "\n",
    "- Using dropout layers\n",
    "- Adding pooling layers\n",
    "- Adding batch-norm layers\n",
    "- Adding convolutional layers (since we are using images)\n",
    "\n",
    "### Training\n",
    "\n",
    "- Running for more epochs (be careful to avoid over-fitting!)\n",
    "- Changing the minibatch size\n",
    "- Early stopping (choosing the model that does the best in a particular epoch even if you train it for longer)\n",
    "- Using data augmentation methods\n",
    "\n",
    "\n",
    "### Optimizer \n",
    "\n",
    "- Modifying the learning rate, weight_decay, or other parameters of the optimizers. \n",
    "- Try other optimizers from the `torch.optim` module. \n",
    "\n",
    "### Other approaches\n",
    "\n",
    "- Using residual layers (aka ResNet)\n",
    "- Normalizing the images (like in the baseline model below) \n",
    "- Other preprocessing steps or [transformations](https://pytorch.org/docs/stable/torchvision/transforms.html) on the images.\n",
    "\n",
    "__IMPORTANT:__ If you do borrow ideas from external sources to design your algorithm, please reference them explicitly in the **Conclusion** section at the end of this notebook."
   ]
  },
  {
   "cell_type": "markdown",
   "metadata": {
    "deletable": false,
    "editable": false,
    "nbgrader": {
     "cell_type": "markdown",
     "checksum": "76963464eaf0e2f7c2958dc064fb4fb2",
     "grade": false,
     "grade_id": "cell-e151cac721fa8534",
     "locked": true,
     "schema_version": 3,
     "solution": false,
     "task": false
    }
   },
   "source": [
    "## Deliverables\n",
    "\n",
    "- Submit this jupyter notebook to Canvas as usual.\n",
    "\n",
    "- A `.csv` file with the output of your algorithm on the `test.pt` images (submitted to Kaggle).\n",
    "\n",
    "**Hint:** At the end of this notebook, there is a function `counts_to_csv` that you can use to create a `.csv` file that can be uploaded to kaggle for evaluation. \n",
    "\n",
    "## Submission to Kaggle\n",
    "\n",
    "You will need to access Kaggle with the following link: \n",
    "\n",
    "https://www.kaggle.com/t/98d81b3ae7434eb6ba68253001803551\n",
    "\n",
    "and create an account. Please include your Kaggle username at the top of the notebook. \n",
    "\n",
    "## Grading\n",
    "\n",
    "-  Please note you cannot use late days for this assignment due to the University grading schedule.\n",
    "-  The student with the highest score on kaggle will receive 10 points of extra credit; the second highest scoring student will receive 5 points of extra credit; and the students placing fifth, four, and third will receive 2 points of extra credit.\n",
    "-  Students with a score above 80% accuracy by April 22 at 9 pm will receive 2 points of extra credit.\n"
   ]
  },
  {
   "cell_type": "markdown",
   "metadata": {
    "deletable": false,
    "editable": false,
    "nbgrader": {
     "cell_type": "markdown",
     "checksum": "f93b2c312a0d3c5c76bd3c8472bc3d0f",
     "grade": false,
     "grade_id": "cell-b458fdc0806a00f1",
     "locked": true,
     "schema_version": 3,
     "solution": false,
     "task": false
    }
   },
   "source": [
    "## Setup"
   ]
  },
  {
   "cell_type": "code",
   "execution_count": 7,
   "metadata": {
    "deletable": false,
    "editable": false,
    "nbgrader": {
     "cell_type": "code",
     "checksum": "c68153d7577534b6ebc1ce7c4e2b082b",
     "grade": false,
     "grade_id": "cell-28f41897b696e4a2",
     "locked": true,
     "schema_version": 3,
     "solution": false,
     "task": false
    }
   },
   "outputs": [],
   "source": [
    "%matplotlib inline\n",
    "import os\n",
    "import csv\n",
    "import time\n",
    "import matplotlib.pyplot as plt\n",
    "import numpy as np\n",
    "import torch\n",
    "import torch.nn as nn\n",
    "import torch.nn.functional as F"
   ]
  },
  {
   "cell_type": "code",
   "execution_count": 8,
   "metadata": {},
   "outputs": [
    {
     "name": "stdout",
     "output_type": "stream",
     "text": [
      "1.7.1\n"
     ]
    }
   ],
   "source": [
    "\n",
    "print(torch.__version__)"
   ]
  },
  {
   "cell_type": "code",
   "execution_count": 9,
   "metadata": {
    "deletable": false,
    "editable": false,
    "nbgrader": {
     "cell_type": "code",
     "checksum": "d946bd051e7e6fe5d3354049e3240640",
     "grade": false,
     "grade_id": "cell-f44bb618f7e0adad",
     "locked": true,
     "schema_version": 3,
     "solution": false,
     "task": false
    }
   },
   "outputs": [],
   "source": [
    "DEVICE = torch.device('cuda:0' if torch.cuda.is_available() else 'cpu')"
   ]
  },
  {
   "cell_type": "markdown",
   "metadata": {
    "deletable": false,
    "editable": false,
    "nbgrader": {
     "cell_type": "markdown",
     "checksum": "dab1d4abdcc2e6abf28099c9bbc22693",
     "grade": false,
     "grade_id": "cell-733e2923e98b5b3a",
     "locked": true,
     "schema_version": 3,
     "solution": false,
     "task": false
    }
   },
   "source": [
    "## Data \n",
    "\n",
    "We have provided dataset with images of galaxies in `.pt` format (`pytorch` readable) consisting of the following files (included along this notebook in your Canvas download):\n",
    "\n",
    "- train.pt\n",
    "\n",
    "- test.pt \n",
    "\n",
    "The training file contains __20k__ images of simulated galaxies and testing contains __10k__ galaxies. Each image can contain anything between **0 and 10 galaxies**. Each image has dimensions __20x20__ pixels. Note that the data is grayscale; i.e. there is only one color channel.\n",
    "\n",
    "The **goal** of your algorithm is to determine the number of galaxies in a given image. You can think of this problem as a classification problem: given an input image we classify it as 1 of the 11 classes (whether the image contains 0, 1, ..., 11 galaxies).\n",
    "\n",
    "**Note:** You may want to further split up the ```train.pt``` data into a \"training\" set and a \"validation\" set, the latter which could be used for tuning hyperparameters, early stopping, etc."
   ]
  },
  {
   "cell_type": "markdown",
   "metadata": {
    "deletable": false,
    "editable": false,
    "nbgrader": {
     "cell_type": "markdown",
     "checksum": "dce4be00a14bfe4bb339bf358e98915c",
     "grade": false,
     "grade_id": "cell-733a264a8087d65d",
     "locked": true,
     "schema_version": 3,
     "solution": false,
     "task": false
    }
   },
   "source": [
    "### Overview"
   ]
  },
  {
   "cell_type": "markdown",
   "metadata": {
    "deletable": false,
    "editable": false,
    "nbgrader": {
     "cell_type": "markdown",
     "checksum": "bbd9e77ed5075548066cb50a28f56155",
     "grade": false,
     "grade_id": "cell-733e2923e98b5b33b",
     "locked": true,
     "schema_version": 3,
     "solution": false,
     "task": false
    }
   },
   "source": [
    "The __training set__ contains images and their true counts which can be accessed as follows: "
   ]
  },
  {
   "cell_type": "code",
   "execution_count": 10,
   "metadata": {
    "deletable": false,
    "editable": false,
    "nbgrader": {
     "cell_type": "code",
     "checksum": "c9917f23ae7adf57a37ec542f8b5a11a",
     "grade": false,
     "grade_id": "cell-f0d1c7bccf1e00a1",
     "locked": true,
     "schema_version": 3,
     "solution": false,
     "task": false
    }
   },
   "outputs": [
    {
     "name": "stdout",
     "output_type": "stream",
     "text": [
      "torch.Size([20000, 20, 20])\n",
      "torch.Size([20000])\n"
     ]
    }
   ],
   "source": [
    "train_data = torch.load('train.pt')\n",
    "train_images = train_data['images']\n",
    "train_counts = train_data['counts']\n",
    "\n",
    "print(train_images.shape) # = (10000, 20, 20)\n",
    "print(train_counts.shape) # = (10000)"
   ]
  },
  {
   "cell_type": "code",
   "execution_count": 11,
   "metadata": {
    "deletable": false,
    "editable": false,
    "nbgrader": {
     "cell_type": "code",
     "checksum": "5ce0ab93f0465e95a0845557c89a6e0a",
     "grade": false,
     "grade_id": "cell-fe3b937bb5080bf4",
     "locked": true,
     "schema_version": 3,
     "solution": false,
     "task": false
    }
   },
   "outputs": [],
   "source": [
    "SIDE_LEN = train_images.shape[-1]"
   ]
  },
  {
   "cell_type": "markdown",
   "metadata": {
    "deletable": false,
    "editable": false,
    "nbgrader": {
     "cell_type": "markdown",
     "checksum": "58c87d515a9a5e2e7721e4fc67005c7e",
     "grade": false,
     "grade_id": "cell-15614a179e68a4b2",
     "locked": true,
     "schema_version": 3,
     "solution": false,
     "task": false
    }
   },
   "source": [
    "To be explicit, let $i$ be an index satisfying $0 < i < 10,000$, then `train_counts[i]` corresponds to the number of galaxies in the 20-by-20 image `train_images[i]`. "
   ]
  },
  {
   "cell_type": "markdown",
   "metadata": {
    "deletable": false,
    "editable": false,
    "nbgrader": {
     "cell_type": "markdown",
     "checksum": "dba44440ce8b286761cdec3488b2273a",
     "grade": false,
     "grade_id": "cell-43e4fcc0a89e7cab",
     "locked": true,
     "schema_version": 3,
     "solution": false,
     "task": false
    }
   },
   "source": [
    "Lets take a look at the first 4 images of galaxies to get an idea of what the data looks like and make sure you can load them correctly."
   ]
  },
  {
   "cell_type": "code",
   "execution_count": 12,
   "metadata": {
    "deletable": false,
    "editable": false,
    "nbgrader": {
     "cell_type": "code",
     "checksum": "acdc0ac68882aa065bc91beac21df199",
     "grade": false,
     "grade_id": "cell-dbb6b4c1add4c695",
     "locked": true,
     "schema_version": 3,
     "solution": false,
     "task": false
    }
   },
   "outputs": [
    {
     "data": {
      "image/png": "[encoded data removed]",
      "text/plain": [
       "<Figure size 720x720 with 9 Axes>"
      ]
     },
     "metadata": {
      "needs_background": "light"
     },
     "output_type": "display_data"
    }
   ],
   "source": [
    "fig, axes = plt.subplots(3, 3, figsize=(10,10))\n",
    "axes = axes.flatten() # get a single dimensional array. \n",
    "for i in range(9):\n",
    "    ax = axes[i]\n",
    "    image = train_images[i].cpu().numpy()\n",
    "    count = train_counts[i].item()\n",
    "    ax.imshow(image)\n",
    "    ax.set_xlabel(f\"Number of galaxies: {count}\")\n",
    "plt.tight_layout()"
   ]
  },
  {
   "cell_type": "markdown",
   "metadata": {
    "deletable": false,
    "editable": false,
    "nbgrader": {
     "cell_type": "markdown",
     "checksum": "ea0058466a7f4d4a2e68c38cfc62c352",
     "grade": false,
     "grade_id": "cell-244979d66543d2c7",
     "locked": true,
     "schema_version": 3,
     "solution": false,
     "task": false
    }
   },
   "source": [
    "The __testing set__ does not countain the counts of each image, your model will predict the counts and these will be evaluated in kaggle. You can access them like this:"
   ]
  },
  {
   "cell_type": "code",
   "execution_count": 13,
   "metadata": {
    "deletable": false,
    "editable": false,
    "nbgrader": {
     "cell_type": "code",
     "checksum": "876960460402ab5a9d9b9f0cf6bccd2e",
     "grade": false,
     "grade_id": "cell-0d4c55c1082d830e",
     "locked": true,
     "schema_version": 3,
     "solution": false,
     "task": false
    }
   },
   "outputs": [
    {
     "name": "stdout",
     "output_type": "stream",
     "text": [
      "torch.Size([10000, 20, 20])\n"
     ]
    }
   ],
   "source": [
    "test_set = torch.load('test.pt')\n",
    "test_images = test_set['images'] \n",
    "assert 'count' not in test_set # does not include counts.\n",
    "print(test_images.shape) # = (10000, 20, 20)"
   ]
  },
  {
   "cell_type": "markdown",
   "metadata": {
    "deletable": false,
    "editable": false,
    "nbgrader": {
     "cell_type": "markdown",
     "checksum": "0d1b3c1fff7d716c443d523e0452d472",
     "grade": false,
     "grade_id": "cell-241cad1a819a07b0",
     "locked": true,
     "schema_version": 3,
     "solution": false,
     "task": false
    }
   },
   "source": [
    "### Dataset and Dataloader\n",
    "\n",
    "What follows is a skeleton for a pytorch `Dataset` and corresponding `DataLoaders` that can be used to train and test the model. You can modify this base implementation if you want, but it's not necessary for completing the problem set."
   ]
  },
  {
   "cell_type": "code",
   "execution_count": 14,
   "metadata": {},
   "outputs": [],
   "source": [
    "# You can modify these attributes if you want.\n",
    "BATCH_SIZE = 64\n",
    "N_WORKERS = min(0, os.cpu_count())  # number of cpus used to load the data faster."
   ]
  },
  {
   "cell_type": "code",
   "execution_count": 15,
   "metadata": {},
   "outputs": [],
   "source": [
    "from torch.utils.data import Dataset, DataLoader\n",
    "\n",
    "class GalaxyDataset(Dataset):\n",
    "    \"\"\"Custom Dataset for loading Quickdraw images\"\"\"\n",
    "\n",
    "    def __init__(self, filepath, test=False):\n",
    "        self.data = torch.load(filepath)\n",
    "        self.images = self.data['images']\n",
    "        self.images = self.images.unsqueeze(1)\n",
    "        self.test = test\n",
    "    \n",
    "    def __len__(self):\n",
    "        return self.images.shape[0]\n",
    "\n",
    "    def __getitem__(self, idx):\n",
    "        \n",
    "        if self.test: \n",
    "            return {'images': self.images[idx]}\n",
    "        else: \n",
    "            return {'images': self.images[idx], 'counts': self.data['counts'][idx]}"
   ]
  },
  {
   "cell_type": "code",
   "execution_count": 16,
   "metadata": {
    "deletable": false,
    "editable": false,
    "nbgrader": {
     "cell_type": "code",
     "checksum": "a3d577835b5ba5c4edab24279bc0b13f",
     "grade": false,
     "grade_id": "cell-dataset",
     "locked": true,
     "schema_version": 3,
     "solution": false,
     "task": false
    }
   },
   "outputs": [],
   "source": [
    "# Define datasets and dataloaders. \n",
    "train_dataset = GalaxyDataset('train.pt', test=False)\n",
    "test_dataset = GalaxyDataset('test.pt', test=True)\n",
    "\n",
    "## OPTIONAL: Split the training data into \"train\" and \"valid\"\n",
    "train_dataset, valid_dataset = torch.utils.data.random_split(\n",
    "        train_dataset, [14000, 6000]\n",
    "    )"
   ]
  },
  {
   "cell_type": "code",
   "execution_count": 17,
   "metadata": {
    "deletable": false,
    "editable": false,
    "nbgrader": {
     "cell_type": "code",
     "checksum": "eb1d52990eddfa895f10e2951c145d7a",
     "grade": false,
     "grade_id": "cell-b8723d8bf7e2ff97",
     "locked": true,
     "schema_version": 3,
     "solution": false,
     "task": false
    }
   },
   "outputs": [],
   "source": [
    "train_loader = DataLoader(dataset=train_dataset,\n",
    "                          batch_size=BATCH_SIZE,\n",
    "                          shuffle=True,\n",
    "                          num_workers=N_WORKERS)\n",
    "valid_loader = DataLoader(dataset=valid_dataset,\n",
    "                          batch_size=BATCH_SIZE,\n",
    "                          shuffle=True,\n",
    "                          num_workers=N_WORKERS)\n",
    "test_loader = DataLoader(dataset=test_dataset,\n",
    "                         batch_size=BATCH_SIZE,\n",
    "                         shuffle=False,\n",
    "                         num_workers=N_WORKERS)"
   ]
  },
  {
   "cell_type": "markdown",
   "metadata": {
    "deletable": false,
    "editable": false,
    "nbgrader": {
     "cell_type": "markdown",
     "checksum": "56813da8eefcfc88b8dc239b5194d8be",
     "grade": false,
     "grade_id": "cell-ac8cc4cf6059ce59",
     "locked": true,
     "schema_version": 3,
     "solution": false,
     "task": false
    }
   },
   "source": [
    "## Utility functions"
   ]
  },
  {
   "cell_type": "code",
   "execution_count": 18,
   "metadata": {
    "deletable": false,
    "editable": false,
    "nbgrader": {
     "cell_type": "code",
     "checksum": "0617148a465310901a86b073f7adf340",
     "grade": false,
     "grade_id": "cell-5f12215a88151927",
     "locked": true,
     "schema_version": 3,
     "solution": false,
     "task": false
    }
   },
   "outputs": [],
   "source": [
    "def compute_accuracy(model, data_loader):\n",
    "    \"\"\"\n",
    "    Takes in your model and either the train_dataloader and valid_dataloader above. Calculate the accuracy of\n",
    "    your model in this dataset.\n",
    "\n",
    "    NOTE: As explained below it assumes your model has a .predict() method. \n",
    "    \"\"\"\n",
    "    assert hasattr(model, 'predict'), \"your model does not have a '.predict()' method.\"\n",
    "    correct_pred, n_examples = 0, 0\n",
    "    with torch.no_grad():\n",
    "        for batch in data_loader: \n",
    "            images = batch['images'].to(DEVICE)\n",
    "            true_counts = batch['counts'].to(DEVICE)\n",
    "            pred_counts = model.predict(images)\n",
    "            n_examples += true_counts.size(0)\n",
    "            correct_pred += (pred_counts == true_counts).sum()\n",
    "        return correct_pred.float()/n_examples"
   ]
  },
  {
   "cell_type": "code",
   "execution_count": 19,
   "metadata": {},
   "outputs": [],
   "source": [
    "def compute_epoch_loss(model, data_loader):\n",
    "    \"\"\"Computes the loss of your model given a train or validation dataloader.\n",
    "    \n",
    "    NOTE: Only works for the MLP architecture we have below, if you don't use the MLP architecture \n",
    "    then you might need to compute the loss differently. Feel free to modify this function.\n",
    "    \n",
    "    \"\"\"\n",
    "    curr_loss, n_examples = 0., 0\n",
    "    with torch.no_grad():\n",
    "        for batch in data_loader:\n",
    "            images = batch['images'].to(DEVICE)\n",
    "            true_counts = batch['counts'].to(DEVICE)\n",
    "            logits, probs = model(images)\n",
    "            loss = F.cross_entropy(logits, true_counts, reduction='sum')\n",
    "            n_examples += true_counts.size(0)\n",
    "            curr_loss += loss.item()\n",
    "\n",
    "        curr_loss = curr_loss / n_examples\n",
    "        return curr_loss"
   ]
  },
  {
   "cell_type": "markdown",
   "metadata": {
    "deletable": false,
    "editable": false,
    "nbgrader": {
     "cell_type": "markdown",
     "checksum": "4c5ae348234565b1408376a57c800137",
     "grade": false,
     "grade_id": "cell-8b8095556035bcdf",
     "locked": true,
     "schema_version": 3,
     "solution": false,
     "task": false
    }
   },
   "source": [
    "## Your model\n",
    "\n",
    "### Implementation\n",
    "\n",
    "Here were provide a baseline model based on a multi-layer perceptron like the one you saw in HW9. You have complete flexibility in the final implementation, including training and how your compute your loss. \n",
    "\n",
    "**Note:** The only requirement to be able to test your model is that your class has a method `.predict()` that takes in images of shape `(N, 20, 20)` and returns an array of shape `(N)` containing the prediction for the number of galaxies in each of the images. "
   ]
  },
  {
   "cell_type": "code",
   "execution_count": 20,
   "metadata": {},
   "outputs": [
    {
     "name": "stdout",
     "output_type": "stream",
     "text": [
      "Seed is 125\n"
     ]
    }
   ],
   "source": [
    "# the random seed makes sure that the random weight initialization\n",
    "# in the model is always the same.\n",
    "# Depending on your architecture you might want to try different seeds since some seeds could correspond\n",
    "# to a bad initialization.\n",
    "RANDOM_SEED = 125\n",
    "torch.manual_seed(RANDOM_SEED)\n",
    "print(\"Seed is\", RANDOM_SEED)"
   ]
  },
  {
   "cell_type": "code",
   "execution_count": 21,
   "metadata": {},
   "outputs": [],
   "source": [
    "class CNN(torch.nn.Module):\n",
    "\n",
    "    def __init__(self, n_classes=7):\n",
    "        \"\"\"A standard MLP with 1 hidden layer.\n",
    "\n",
    "        Arguments:\n",
    "            n_hidden: Number of units in the first hidden layer.\n",
    "            n_classes: Number of classes. Should be 7, the possible number of galaxies in the image.\n",
    "        \"\"\"\n",
    "        super(CNN, self).__init__()\n",
    "\n",
    "        self.conv1 = torch.nn.Conv2d(1, 64, 3, 1, 1)\n",
    "        self.pool1 = torch.nn.MaxPool2d((2, 2))\n",
    "        self.relu1 = torch.nn.ReLU()\n",
    "        self.bn1 = torch.nn.BatchNorm2d(64)\n",
    "\n",
    "        self.conv2 = torch.nn.Conv2d(64, 128, 3, 1, 1)\n",
    "        self.pool2 = torch.nn.MaxPool2d((2, 2))\n",
    "        self.relu2 = torch.nn.ReLU()\n",
    "        self.bn2 = torch.nn.BatchNorm2d(128)\n",
    "\n",
    "        self.fc1 = torch.nn.Linear(128*5*5, 64)\n",
    "        self.relu3 = torch.nn.ReLU()\n",
    "        self.dropout = torch.nn.Dropout(0.2830446616366832)\n",
    "\n",
    "        self.linear_out = torch.nn.Linear(64, n_classes)\n",
    "\n",
    "    def forward(self, x):\n",
    "        \"\"\"Forward function that takes in x, a tensor of shape (N, 20, 20) of galaxy images and\n",
    "        returns a prediction.\n",
    "\n",
    "        Returns:\n",
    "            logits: Output of the feedfoward neural networs (unnormalized log-probabilities)\n",
    "            probs: normalized probabilities.\n",
    "        \"\"\"\n",
    "#         print(x.size())\n",
    "#         assert len(x.shape) == 3\n",
    "#         assert x.shape[1] == x.shape[2]\n",
    "#         x = x.unsqueeze(1)\n",
    "        x = self.conv1(x)\n",
    "        x = self.pool1(x)\n",
    "        x = self.bn1(x)\n",
    "        x = self.relu1(x)\n",
    "\n",
    "        x = self.conv2(x)\n",
    "        x = self.pool2(x)\n",
    "        x = self.bn2(x)\n",
    "        x = self.relu2(x)\n",
    "        \n",
    "        x = x.view(x.size()[0], -1)\n",
    "        x = self.relu3(self.fc1(x))\n",
    "        \n",
    "        out = self.dropout(x)\n",
    "        logits = self.linear_out(out)\n",
    "        probs = F.softmax(logits, dim=1)\n",
    "        return logits, probs\n",
    "\n",
    "    def predict(self, x):\n",
    "        logits, probs = self(x)\n",
    "        return probs.argmax(axis=1).int()"
   ]
  },
  {
   "cell_type": "markdown",
   "metadata": {
    "deletable": false,
    "editable": false,
    "nbgrader": {
     "cell_type": "markdown",
     "checksum": "7e245a29b3f8eabaed7c416ce590ecba",
     "grade": false,
     "grade_id": "cell-05d4fcdc274d45a9",
     "locked": true,
     "schema_version": 3,
     "solution": false,
     "task": false
    }
   },
   "source": [
    "### Initializiation\n",
    "\n",
    "You should create your model from the class specified above this cell. You __should__ move your model to the correct device by using the `.to(DEVICE)` method."
   ]
  },
  {
   "cell_type": "code",
   "execution_count": 22,
   "metadata": {},
   "outputs": [],
   "source": [
    "model = CNN(n_classes=11)\n",
    "model = model.to(DEVICE)"
   ]
  },
  {
   "cell_type": "markdown",
   "metadata": {
    "deletable": false,
    "editable": false,
    "nbgrader": {
     "cell_type": "markdown",
     "checksum": "96b033052cfb8bc95fb5900fe1232f8f",
     "grade": false,
     "grade_id": "cell-e6855b32bec9c89d",
     "locked": true,
     "schema_version": 3,
     "solution": false,
     "task": false
    }
   },
   "source": [
    "### Optimizer\n",
    "\n",
    "You can feel free to experiment with different optimizers and learning rates, etc. If you do, this is a good thing to write in the conclusions at the end of this notebook. "
   ]
  },
  {
   "cell_type": "code",
   "execution_count": 23,
   "metadata": {},
   "outputs": [],
   "source": [
    "optimizer = torch.optim.Adam(model.parameters(), lr=0.0006979842807320323)"
   ]
  },
  {
   "cell_type": "markdown",
   "metadata": {
    "deletable": false,
    "editable": false,
    "nbgrader": {
     "cell_type": "markdown",
     "checksum": "dde0facc8cbccb804d299174170b537e",
     "grade": false,
     "grade_id": "cell-6ecb5cb777002b4f",
     "locked": true,
     "schema_version": 3,
     "solution": false,
     "task": false
    }
   },
   "source": [
    "## Training\n",
    "\n",
    "Depending on how much you changed your architecture, your training procedure might change. If you are still using a MLP it's very likely you can keep the same training procedure. \n",
    "\n",
    "You can also modify the number of epochs below, as an input argument to `run_training`."
   ]
  },
  {
   "cell_type": "code",
   "execution_count": 24,
   "metadata": {},
   "outputs": [],
   "source": [
    "def run_training(model, train_loader, valid_loader, n_epochs=10):\n",
    "    start_time = time.time()\n",
    "    epoch_loss = [] \n",
    "    for epoch in range(n_epochs):\n",
    "        model.train()\n",
    "        for batch_idx, batch in enumerate(train_loader):\n",
    "            images = batch['images'].to(DEVICE)\n",
    "            true_counts = batch['counts'].to(DEVICE)\n",
    "\n",
    "\n",
    "            # FORWARD AND BACK PROP\n",
    "            logits, probs = model(images)\n",
    "            cost = F.cross_entropy(logits, true_counts)\n",
    "            optimizer.zero_grad()\n",
    "            cost.backward()\n",
    "\n",
    "            # UPDATE MODEL PARAMETERS\n",
    "            optimizer.step()\n",
    "\n",
    "            # LOGGING\n",
    "            if not batch_idx % 50:\n",
    "                print('Epoch: %03d/%03d | Batch %03d/%03d | Cost: %.4f'\n",
    "                      % (epoch+1, n_epochs, batch_idx,\n",
    "                         len(train_loader), cost))\n",
    "\n",
    "        # we evaluate our model after each epoch.\n",
    "        model.eval()\n",
    "        cost = compute_epoch_loss(model, train_loader)\n",
    "        epoch_loss.append(cost)\n",
    "\n",
    "        train_accuracy = compute_accuracy(model, train_loader)\n",
    "        valid_accuracy = compute_accuracy(model, valid_loader)\n",
    "\n",
    "        print('Epoch: %03d/%03d Train Cost: %.4f' % (\n",
    "                epoch+1, n_epochs, cost))\n",
    "        print('Train Accuracy: %.3f | Validation Accuracy: %.3f'\n",
    "              % (train_accuracy, valid_accuracy))\n",
    "        print('Time elapsed: %.2f min' % ((time.time() - start_time)/60))\n",
    "\n",
    "    print('Total Training Time: %.2f min' % ((time.time() - start_time)/60))\n",
    "    return train_accuracy, valid_accuracy, epoch_loss"
   ]
  },
  {
   "cell_type": "code",
   "execution_count": 25,
   "metadata": {},
   "outputs": [
    {
     "name": "stdout",
     "output_type": "stream",
     "text": [
      "Epoch: 001/001 | Batch 000/110 | Cost: 2.4155\n",
      "Epoch: 001/001 | Batch 050/110 | Cost: 2.1976\n",
      "Epoch: 001/001 | Batch 100/110 | Cost: 1.9839\n",
      "Epoch: 001/001 Train Cost: 1.8928\n",
      "Train Accuracy: 0.278 | Validation Accuracy: 0.273\n",
      "Time elapsed: 0.97 min\n",
      "Total Training Time: 0.97 min\n"
     ]
    }
   ],
   "source": [
    "N_EPOCHS = 1\n",
    "train_accuracy, valid_accuracy, epoch_loss = run_training(model, train_loader, valid_loader, n_epochs=N_EPOCHS)"
   ]
  },
  {
   "cell_type": "markdown",
   "metadata": {
    "deletable": false,
    "editable": false,
    "nbgrader": {
     "cell_type": "markdown",
     "checksum": "6c9245d6327eaa0078b0a5f0e86551cd",
     "grade": false,
     "grade_id": "cell-9b6894f5da8e4a45",
     "locked": true,
     "schema_version": 3,
     "solution": false,
     "task": false
    }
   },
   "source": [
    "### Loss function\n",
    "\n",
    "Here is a plot showing your loss as a function of epoch which can be used to see if your model is being optimized correctly. This could also help you decide if e.g. **early stopping** might be helpful. "
   ]
  },
  {
   "cell_type": "code",
   "execution_count": 20,
   "metadata": {},
   "outputs": [
    {
     "data": {
      "image/png": "[encoded data removed]",
      "text/plain": [
       "<Figure size 432x288 with 1 Axes>"
      ]
     },
     "metadata": {
      "needs_background": "light"
     },
     "output_type": "display_data"
    }
   ],
   "source": [
    "plt.plot(range(len(epoch_loss)), epoch_loss)\n",
    "plt.ylabel('Loss')\n",
    "plt.xlabel('Epoch')\n",
    "plt.show()"
   ]
  },
  {
   "cell_type": "markdown",
   "metadata": {
    "deletable": false,
    "editable": false,
    "nbgrader": {
     "cell_type": "markdown",
     "checksum": "577530aed1407ea1f89447280086f11d",
     "grade": false,
     "grade_id": "cell-c24fc3d27e8cac8f",
     "locked": true,
     "schema_version": 3,
     "solution": false,
     "task": false
    }
   },
   "source": [
    "## Testing \n",
    "\n",
    "Once you trained your `model`, you are ready to try it out in the `test_images`. Even though we don't provide the true counts for the test images, you can inspect some by eye if you want. \n",
    "\n",
    "**WARNING:** Do not modify the order of `my_counts` otherwise your submission to kaggle will be wrong. "
   ]
  },
  {
   "cell_type": "code",
   "execution_count": null,
   "metadata": {
    "deletable": false,
    "editable": false,
    "nbgrader": {
     "cell_type": "code",
     "checksum": "c5b1b66c4f1cae52065286ea9bdf4d86",
     "grade": false,
     "grade_id": "cell-7c76cdf5d3914d2a",
     "locked": true,
     "schema_version": 3,
     "solution": false,
     "task": false
    }
   },
   "outputs": [],
   "source": [
    "my_counts = torch.zeros(0, device=DEVICE) \n",
    "model.eval()\n",
    "for batch in test_loader:\n",
    "    test_pred = model.predict(batch['images'].to(DEVICE))\n",
    "    my_counts = torch.cat((my_counts, test_pred), 0)"
   ]
  },
  {
   "cell_type": "markdown",
   "metadata": {
    "deletable": false,
    "editable": false,
    "nbgrader": {
     "cell_type": "markdown",
     "checksum": "1b6a180f0fc62c8b7e965635ee65a778",
     "grade": false,
     "grade_id": "cell-56b3b0606ba074ea",
     "locked": true,
     "points": 25,
     "schema_version": 3,
     "solution": false,
     "task": true
    }
   },
   "source": [
    "## Submission (20 points) \n",
    "\n",
    "Once you are satisfied with your model and your predictions, you are ready to submit to [kaggle](https://www.kaggle.com/c/galaxy-detection-challenge). We provide the function `counts_to_csv` that automatically takes in your prediction for the test set and creates a CSV file that you can upload to kaggle for your submission. This file is called \"kaggle_upload.csv\" by default, and will be created in the same directory as your notebook."
   ]
  },
  {
   "cell_type": "code",
   "execution_count": null,
   "metadata": {
    "deletable": false,
    "editable": false,
    "nbgrader": {
     "cell_type": "code",
     "checksum": "f9978e4737f2659561deb55fa58b5228",
     "grade": false,
     "grade_id": "cell-91805f38edf69bdc",
     "locked": true,
     "schema_version": 3,
     "solution": false,
     "task": false
    }
   },
   "outputs": [],
   "source": [
    "import csv\n",
    "def counts_to_csv(kaggle_csv, counts):\n",
    "    assert len(counts.shape) == 1, \"Incorrect format for counts.\"\n",
    "    assert counts.shape[0] == 10000, \"Incorrect format for counts.\"\n",
    "    with open(kaggle_csv, 'w', newline='') as fp: \n",
    "        writer = csv.writer(fp)\n",
    "        writer.writerow(['ID', 'Category'])\n",
    "        for i, c in enumerate(counts):\n",
    "            writer.writerow([str(i), str(int(c.item()))])"
   ]
  },
  {
   "cell_type": "code",
   "execution_count": null,
   "metadata": {
    "deletable": false,
    "editable": false,
    "nbgrader": {
     "cell_type": "code",
     "checksum": "643000bb9ef5fc690ad1d2830d967098",
     "grade": false,
     "grade_id": "cell-235f1e93ab230050",
     "locked": true,
     "schema_version": 3,
     "solution": false,
     "task": false
    }
   },
   "outputs": [],
   "source": [
    "kaggle_results_csv = \"kaggle_upload.csv\"\n",
    "counts_to_csv(kaggle_results_csv, my_counts) # creates a file in your current directory called `UNIQID.csv`."
   ]
  },
  {
   "cell_type": "markdown",
   "metadata": {
    "deletable": false,
    "editable": false,
    "nbgrader": {
     "cell_type": "markdown",
     "checksum": "f066ef5d41f344f337b5b15c7c2d2e15",
     "grade": false,
     "grade_id": "cell-aaf051eddcd709c6",
     "locked": true,
     "schema_version": 3,
     "solution": false,
     "task": false
    }
   },
   "source": [
    "## Conclusion"
   ]
  },
  {
   "cell_type": "markdown",
   "metadata": {
    "deletable": false,
    "editable": false,
    "nbgrader": {
     "cell_type": "markdown",
     "checksum": "6e6c02414ddf4982dea98b784dd4d3ad",
     "grade": false,
     "grade_id": "cell-422b8d02ef9b3ce0",
     "locked": true,
     "schema_version": 3,
     "solution": false,
     "task": false
    }
   },
   "source": [
    "In the cell below, please describe the approach you took in designing your algorithm and the choices that went into this design. Your answer should be detailed and will be significantly weighted in determining your final grade. Your answer might include but is not limited to the following points: \n",
    "\n",
    "- What type of neural network architecture did you use? (CNN, MLP, ResNet, etc.) How many layers did you use? How many units in each layer? How did you initialize your neural network? What optimizer did you use? \n",
    "\n",
    "- What challenges did you encounter as you were doing this problem set? How did you overcome these obstacles?\n",
    "\n",
    "- Please explain your overall design and the choices behind it as much as possible (this can include your thought process). \n",
    "\n",
    "- How many different designs did you try? How did you settle on your final design?\n",
    "\n",
    "- If you used external resources to get any ideas for your solution, please describe these too."
   ]
  },
  {
   "cell_type": "markdown",
   "metadata": {
    "deletable": false,
    "nbgrader": {
     "cell_type": "markdown",
     "checksum": "c9e6db4950a4772dcec857bd4cd6f47d",
     "grade": true,
     "grade_id": "cell-0897f6545b1adcc2",
     "locked": false,
     "points": 25,
     "schema_version": 3,
     "solution": true,
     "task": false
    }
   },
   "source": [
    "I use CNN network with 3 layers. The first layer has 1 in, 64 out. The second layer has 64 in, 128 out. The third layer has 128 in and output the class. I ues Adam as te optimizer. The challenge is the MLP network didn't work very well, but change to CNN network is quite hard cause I need to change quite a few parameters. I worked with externel resources and discuss with my friend to overcome the obstacles. Basically I use the CNN layer with pooling and batchnorm layer to get better result. Also, I add the dropout layer to reduce overfit. I first tried to tune the hyperparameter and add layers in the MLP network to get better performance. But then I found out no matter what I change, the upper bound for MLP seems to be 0.55 to 0.56. So I decided to change the network. Since we are dealing with images, so I decided to change to CNN network. I use optuna to help tune my hyperparameter, this is a bunch of code that can tune the parameter automatically."
   ]
  }
 ],
 "metadata": {
  "hide_input": false,
  "kernelspec": {
   "display_name": "Python 3",
   "language": "python",
   "name": "python3"
  },
  "language_info": {
   "codemirror_mode": {
    "name": "ipython",
    "version": 3
   },
   "file_extension": ".py",
   "mimetype": "text/x-python",
   "name": "python",
   "nbconvert_exporter": "python",
   "pygments_lexer": "ipython3",
   "version": "3.8.7"
  },
  "latex_envs": {
   "LaTeX_envs_menu_present": true,
   "autoclose": false,
   "autocomplete": true,
   "bibliofile": "biblio.bib",
   "cite_by": "apalike",
   "current_citInitial": 1,
   "eqLabelWithNumbers": true,
   "eqNumInitial": 1,
   "hotkeys": {
    "equation": "meta-shift-y"
   },
   "labels_anchors": false,
   "latex_user_defs": false,
   "report_style_numbering": false,
   "user_envs_cfg": false
  },
  "toc": {
   "base_numbering": 1,
   "nav_menu": {},
   "number_sections": false,
   "sideBar": true,
   "skip_h1_title": false,
   "title_cell": "Table of Contents",
   "title_sidebar": "Contents",
   "toc_cell": false,
   "toc_position": {
    "height": "calc(100% - 180px)",
    "left": "10px",
    "top": "150px",
    "width": "191.87px"
   },
   "toc_section_display": true,
   "toc_window_display": true
  },
  "varInspector": {
   "cols": {
    "lenName": 16,
    "lenType": 16,
    "lenVar": 40
   },
   "kernels_config": {
    "python": {
     "delete_cmd_postfix": "",
     "delete_cmd_prefix": "del ",
     "library": "var_list.py",
     "varRefreshCmd": "print(var_dic_list())"
    },
    "r": {
     "delete_cmd_postfix": ") ",
     "delete_cmd_prefix": "rm(",
     "library": "var_list.r",
     "varRefreshCmd": "cat(var_dic_list()) "
    }
   },
   "types_to_exclude": [
    "module",
    "function",
    "builtin_function_or_method",
    "instance",
    "_Feature"
   ],
   "window_display": false
  }
 },
 "nbformat": 4,
 "nbformat_minor": 4
}
